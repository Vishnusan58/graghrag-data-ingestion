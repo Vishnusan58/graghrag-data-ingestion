{
  "nbformat": 4,
  "nbformat_minor": 0,
  "metadata": {
    "colab": {
      "provenance": [],
      "gpuType": "T4"
    },
    "kernelspec": {
      "name": "python3",
      "display_name": "Python 3"
    },
    "language_info": {
      "name": "python"
    },
    "accelerator": "GPU"
  },
  "cells": [
    {
      "cell_type": "code",
      "source": [
        "%pip install neo4j"
      ],
      "metadata": {
        "colab": {
          "base_uri": "https://localhost:8080/"
        },
        "id": "rcW_RFon0mEX",
        "outputId": "6187e3f7-8a63-4950-859e-5d3fdc60a620"
      },
      "execution_count": 1,
      "outputs": [
        {
          "output_type": "stream",
          "name": "stdout",
          "text": [
            "Collecting neo4j\n",
            "  Downloading neo4j-5.28.1-py3-none-any.whl.metadata (5.9 kB)\n",
            "Requirement already satisfied: pytz in /usr/local/lib/python3.11/dist-packages (from neo4j) (2025.2)\n",
            "Downloading neo4j-5.28.1-py3-none-any.whl (312 kB)\n",
            "\u001b[2K   \u001b[90m━━━━━━━━━━━━━━━━━━━━━━━━━━━━━━━━━━━━━━━━\u001b[0m \u001b[32m312.3/312.3 kB\u001b[0m \u001b[31m4.8 MB/s\u001b[0m eta \u001b[36m0:00:00\u001b[0m\n",
            "\u001b[?25hInstalling collected packages: neo4j\n",
            "Successfully installed neo4j-5.28.1\n"
          ]
        }
      ]
    },
    {
      "cell_type": "code",
      "execution_count": 13,
      "metadata": {
        "id": "m7UKYoKl0WPy"
      },
      "outputs": [],
      "source": [
        "import csv\n",
        "import requests\n",
        "from neo4j import GraphDatabase\n",
        "import pandas as pd\n",
        "import openai"
      ]
    },
    {
      "cell_type": "markdown",
      "source": [
        "# Neo4j credentials"
      ],
      "metadata": {
        "id": "lkshKQE507Z6"
      }
    },
    {
      "cell_type": "code",
      "source": [
        "NEO4J_URI = \"\"\n",
        "NEO4J_USER = \"\"\n",
        "NEO4J_PASSWORD = \"\""
      ],
      "metadata": {
        "id": "fipNwWKG07GR"
      },
      "execution_count": 3,
      "outputs": []
    },
    {
      "cell_type": "code",
      "source": [
        "# OpenAI setup\n",
        "openai.api_key = \"\""
      ],
      "metadata": {
        "id": "QsrgnwZm-K2f"
      },
      "execution_count": 15,
      "outputs": []
    },
    {
      "cell_type": "code",
      "source": [
        "BASE_URL = \"https://storage.googleapis.com/neo4j-workshop-data/genai-hm/\"\n",
        "files = {\n",
        "    \"department\": \"department.csv\",\n",
        "    \"product\": \"product.csv\",\n",
        "    \"article\": \"article.csv\",\n",
        "    \"customer\": \"customer.csv\",\n",
        "    \"transaction\": \"transaction.csv\"\n",
        "}"
      ],
      "metadata": {
        "id": "iJ5Nx38c2rgs"
      },
      "execution_count": 4,
      "outputs": []
    },
    {
      "cell_type": "code",
      "source": [
        "# Load as DataFrames\n",
        "datasets = {name: pd.read_csv(BASE_URL + filename) for name, filename in files.items()}"
      ],
      "metadata": {
        "id": "JtBKpIdt4CqH"
      },
      "execution_count": 5,
      "outputs": []
    },
    {
      "cell_type": "code",
      "source": [
        "# Example: preview data\n",
        "print(datasets[\"department\"].head(2))\n",
        "print(datasets[\"product\"].head(2))\n",
        "print(datasets[\"article\"].head(2))\n",
        "print(datasets[\"customer\"].head(2))\n",
        "print(datasets[\"transaction\"].head(2))"
      ],
      "metadata": {
        "colab": {
          "base_uri": "https://localhost:8080/"
        },
        "id": "jENSs_2R4Gja",
        "outputId": "9234435d-2f02-4b36-f74f-cc9b99bcb9e8"
      },
      "execution_count": 6,
      "outputs": [
        {
          "output_type": "stream",
          "name": "stdout",
          "text": [
            "   departmentNo  departmentName  sectionNo             sectionName\n",
            "0          1676    Jersey Basic         16  Womens Everyday Basics\n",
            "1          1339  Clean Lingerie         61         Womens Lingerie\n",
            "   productCode           prodName  productTypeNo productTypeName  \\\n",
            "0       108775          Strap top            253        Vest top   \n",
            "1       110065  OP T-shirt (Idro)            306             Bra   \n",
            "\n",
            "     productGroupName  garmentGroupNo   garmentGroupName  \\\n",
            "0  Garment Upper body            1002       Jersey Basic   \n",
            "1           Underwear            1017  Under-, Nightwear   \n",
            "\n",
            "                                          detailDesc  \n",
            "0            Jersey top with narrow shoulder straps.  \n",
            "1  Microfibre T-shirt bra with underwired, moulde...  \n",
            "   articleId  productCode  departmentNo   prodName productTypeName  \\\n",
            "0  108775015       108775          1676  Strap top        Vest top   \n",
            "1  108775044       108775          1676  Strap top        Vest top   \n",
            "\n",
            "   graphicalAppearanceNo graphicalAppearanceName  colourGroupCode  \\\n",
            "0                1010016                   Solid                9   \n",
            "1                1010016                   Solid               10   \n",
            "\n",
            "  colourGroupName  \n",
            "0           Black  \n",
            "1           White  \n",
            "                                          customerId   fn  active  \\\n",
            "0  00264b7d4cd6498292e8a355b699c2d07725d123f04867...  1.0     1.0   \n",
            "1  005c6d3bb66c86aab606814cd9995a12f99b3a44b58c72...  NaN     NaN   \n",
            "\n",
            "  clubMemberStatus fashionNewsFrequency   age  \\\n",
            "0           ACTIVE            Regularly  53.0   \n",
            "1       PRE-CREATE                 NONE   NaN   \n",
            "\n",
            "                                          postalCode  \n",
            "0  2c29ae653a9282cce4151bd87643c907644e09541abc28...  \n",
            "1  177b4a2258a85a2247daaa7cdffba96a74c741ea8a6605...  \n",
            "         tDat                                         customerId  articleId  \\\n",
            "0  2018-09-20  0ddcd6055c5830c1fda493843d051edb04ce1bf888aa4b...  653428002   \n",
            "1  2018-09-20  210f113fe87db5d6391e986dc06b8e4369e46284e3b989...  636587001   \n",
            "\n",
            "      price  salesChannelId  txId  \n",
            "0  0.135576               1  2445  \n",
            "1  0.008458               1  6182  \n"
          ]
        }
      ]
    },
    {
      "cell_type": "code",
      "source": [
        "# Replace with your actual Google Sheets published CSV links\n",
        "CSV_URLS = {\n",
        "    \"departments\": \"https://storage.googleapis.com/neo4j-workshop-data/genai-hm/department.csv\",\n",
        "    \"products\":    \"https://storage.googleapis.com/neo4j-workshop-data/genai-hm/product.csv\",\n",
        "    \"articles\":    \"https://storage.googleapis.com/neo4j-workshop-data/genai-hm/article.csv\",\n",
        "    \"customers\":   \"https://storage.googleapis.com/neo4j-workshop-data/genai-hm/customer.csv\",\n",
        "    \"transactions\":\"https://storage.googleapis.com/neo4j-workshop-data/genai-hm/transaction.csv\",\n",
        "}"
      ],
      "metadata": {
        "id": "O1Hsfs-t4ZQX"
      },
      "execution_count": 7,
      "outputs": []
    },
    {
      "cell_type": "code",
      "source": [
        "def fetch_csv(url):\n",
        "    r = requests.get(url)\n",
        "    r.raise_for_status()\n",
        "    decoded = r.content.decode('utf-8')\n",
        "    return list(csv.DictReader(decoded.splitlines()))"
      ],
      "metadata": {
        "id": "gUV5FoXX5F3L"
      },
      "execution_count": 8,
      "outputs": []
    },
    {
      "cell_type": "code",
      "source": [
        "driver = GraphDatabase.driver(NEO4J_URI, auth=(NEO4J_USER, NEO4J_PASSWORD))"
      ],
      "metadata": {
        "id": "zKjf-ZID5hL6"
      },
      "execution_count": 9,
      "outputs": []
    },
    {
      "cell_type": "code",
      "source": [
        "def load_departments(tx, row):\n",
        "    tx.run(\"\"\"\n",
        "        MERGE (d:Department {departmentNo: $departmentNo})\n",
        "        SET d.departmentName = $departmentName\n",
        "    \"\"\", **row)\n",
        "\n",
        "def load_sections(tx, row):\n",
        "    tx.run(\"\"\"\n",
        "        MERGE (d:Department {departmentNo: $departmentNo})\n",
        "        MERGE (s:Section {sectionNo: $sectionNo})\n",
        "        SET s.sectionName = $sectionName\n",
        "        MERGE (d)-[:HAS_SECTION]->(s)\n",
        "    \"\"\", **row)\n",
        "\n",
        "def load_products(tx, row):\n",
        "    tx.run(\"\"\"\n",
        "        MERGE (p:Product {productCode: $productCode})\n",
        "        SET p.prodName = $prodName, p.productTypeNo = $productTypeNo, p.productTypeName = $productTypeName,\n",
        "            p.productGroupName = $productGroupName, p.garmentGroupNo = $garmentGroupNo,\n",
        "            p.garmentGroupName = $garmentGroupName, p.detailDesc = $detailDesc\n",
        "    \"\"\", **row)\n",
        "\n",
        "def load_articles(tx, row):\n",
        "    tx.run(\"\"\"\n",
        "        MERGE (a:Article {articleId: $articleId})\n",
        "        SET a.productCode = $productCode, a.prodName = $prodName, a.productTypeName = $productTypeName,\n",
        "            a.graphicalAppearanceNo = $graphicalAppearanceNo, a.graphicalAppearanceName = $graphicalAppearanceName,\n",
        "            a.colourGroupCode = $colourGroupCode, a.colourGroupName = $colourGroupName\n",
        "        WITH a\n",
        "        MATCH (p:Product {productCode: $productCode})\n",
        "        MERGE (p)-[:HAS_ARTICLE]->(a)\n",
        "    \"\"\", **row)\n",
        "\n",
        "def load_customers(tx, row):\n",
        "    tx.run(\"\"\"\n",
        "        MERGE (c:Customer {customerId: $customerId})\n",
        "        SET c.clubMemberStatus = $clubMemberStatus, c.fashionNewsFrequency = $fashionNewsFrequency,\n",
        "            c.age = $age, c.postalCode = $postalCode\n",
        "    \"\"\", **row)\n",
        "\n",
        "def load_transactions(tx, row):\n",
        "    tx.run(\"\"\"\n",
        "        MATCH (c:Customer {customerId: $customerId})\n",
        "        MATCH (a:Article {articleId: $articleId})\n",
        "        MERGE (c)-[r:PURCHASED {txId: $txId}]->(a)\n",
        "        SET r.price = $price, r.salesChannelId = $salesChannelId, r.tDat = $tDat\n",
        "    \"\"\", **row)"
      ],
      "metadata": {
        "id": "CsRRJwzK5mBe"
      },
      "execution_count": 10,
      "outputs": []
    },
    {
      "cell_type": "code",
      "source": [
        "with driver.session() as session:\n",
        "    # Departments and Sections\n",
        "    for row in fetch_csv(CSV_URLS[\"departments\"]):\n",
        "        session.write_transaction(load_departments, row)\n",
        "        session.write_transaction(load_sections, row)\n",
        "    # Products\n",
        "    for row in fetch_csv(CSV_URLS[\"products\"]):\n",
        "        session.write_transaction(load_products, row)\n",
        "    # Articles\n",
        "    for row in fetch_csv(CSV_URLS[\"articles\"]):\n",
        "        session.write_transaction(load_articles, row)\n",
        "    # Customers\n",
        "    for row in fetch_csv(CSV_URLS[\"customers\"]):\n",
        "        session.write_transaction(load_customers, row)\n",
        "    # Transactions\n",
        "    for row in fetch_csv(CSV_URLS[\"transactions\"]):\n",
        "        session.write_transaction(load_transactions, row)"
      ],
      "metadata": {
        "colab": {
          "base_uri": "https://localhost:8080/",
          "height": 460
        },
        "id": "oanKVjRq5rhZ",
        "outputId": "d6598335-3bec-4e1a-e356-891fa312b9e7"
      },
      "execution_count": 11,
      "outputs": [
        {
          "output_type": "stream",
          "name": "stderr",
          "text": [
            "<ipython-input-11-356714999>:4: DeprecationWarning: write_transaction has been renamed to execute_write\n",
            "  session.write_transaction(load_departments, row)\n",
            "<ipython-input-11-356714999>:5: DeprecationWarning: write_transaction has been renamed to execute_write\n",
            "  session.write_transaction(load_sections, row)\n",
            "<ipython-input-11-356714999>:8: DeprecationWarning: write_transaction has been renamed to execute_write\n",
            "  session.write_transaction(load_products, row)\n"
          ]
        },
        {
          "output_type": "error",
          "ename": "KeyboardInterrupt",
          "evalue": "",
          "traceback": [
            "\u001b[0;31m---------------------------------------------------------------------------\u001b[0m",
            "\u001b[0;31mKeyboardInterrupt\u001b[0m                         Traceback (most recent call last)",
            "\u001b[0;32m<ipython-input-11-356714999>\u001b[0m in \u001b[0;36m<cell line: 0>\u001b[0;34m()\u001b[0m\n\u001b[1;32m      6\u001b[0m     \u001b[0;31m# Products\u001b[0m\u001b[0;34m\u001b[0m\u001b[0;34m\u001b[0m\u001b[0m\n\u001b[1;32m      7\u001b[0m     \u001b[0;32mfor\u001b[0m \u001b[0mrow\u001b[0m \u001b[0;32min\u001b[0m \u001b[0mfetch_csv\u001b[0m\u001b[0;34m(\u001b[0m\u001b[0mCSV_URLS\u001b[0m\u001b[0;34m[\u001b[0m\u001b[0;34m\"products\"\u001b[0m\u001b[0;34m]\u001b[0m\u001b[0;34m)\u001b[0m\u001b[0;34m:\u001b[0m\u001b[0;34m\u001b[0m\u001b[0;34m\u001b[0m\u001b[0m\n\u001b[0;32m----> 8\u001b[0;31m         \u001b[0msession\u001b[0m\u001b[0;34m.\u001b[0m\u001b[0mwrite_transaction\u001b[0m\u001b[0;34m(\u001b[0m\u001b[0mload_products\u001b[0m\u001b[0;34m,\u001b[0m \u001b[0mrow\u001b[0m\u001b[0;34m)\u001b[0m\u001b[0;34m\u001b[0m\u001b[0;34m\u001b[0m\u001b[0m\n\u001b[0m\u001b[1;32m      9\u001b[0m     \u001b[0;31m# Articles\u001b[0m\u001b[0;34m\u001b[0m\u001b[0;34m\u001b[0m\u001b[0m\n\u001b[1;32m     10\u001b[0m     \u001b[0;32mfor\u001b[0m \u001b[0mrow\u001b[0m \u001b[0;32min\u001b[0m \u001b[0mfetch_csv\u001b[0m\u001b[0;34m(\u001b[0m\u001b[0mCSV_URLS\u001b[0m\u001b[0;34m[\u001b[0m\u001b[0;34m\"articles\"\u001b[0m\u001b[0;34m]\u001b[0m\u001b[0;34m)\u001b[0m\u001b[0;34m:\u001b[0m\u001b[0;34m\u001b[0m\u001b[0;34m\u001b[0m\u001b[0m\n",
            "\u001b[0;32m/usr/local/lib/python3.11/dist-packages/neo4j/_meta.py\u001b[0m in \u001b[0;36minner\u001b[0;34m(*args, **kwargs)\u001b[0m\n\u001b[1;32m    241\u001b[0m             \u001b[0;32mdef\u001b[0m \u001b[0minner\u001b[0m\u001b[0;34m(\u001b[0m\u001b[0;34m*\u001b[0m\u001b[0margs\u001b[0m\u001b[0;34m,\u001b[0m \u001b[0;34m**\u001b[0m\u001b[0mkwargs\u001b[0m\u001b[0;34m)\u001b[0m\u001b[0;34m:\u001b[0m\u001b[0;34m\u001b[0m\u001b[0;34m\u001b[0m\u001b[0m\n\u001b[1;32m    242\u001b[0m                 \u001b[0mwarning_func\u001b[0m\u001b[0;34m(\u001b[0m\u001b[0mmessage\u001b[0m\u001b[0;34m,\u001b[0m \u001b[0mstack_level\u001b[0m\u001b[0;34m=\u001b[0m\u001b[0;36m2\u001b[0m\u001b[0;34m)\u001b[0m\u001b[0;34m\u001b[0m\u001b[0;34m\u001b[0m\u001b[0m\n\u001b[0;32m--> 243\u001b[0;31m                 \u001b[0;32mreturn\u001b[0m \u001b[0mf\u001b[0m\u001b[0;34m(\u001b[0m\u001b[0;34m*\u001b[0m\u001b[0margs\u001b[0m\u001b[0;34m,\u001b[0m \u001b[0;34m**\u001b[0m\u001b[0mkwargs\u001b[0m\u001b[0;34m)\u001b[0m\u001b[0;34m\u001b[0m\u001b[0;34m\u001b[0m\u001b[0m\n\u001b[0m\u001b[1;32m    244\u001b[0m \u001b[0;34m\u001b[0m\u001b[0m\n\u001b[1;32m    245\u001b[0m             \u001b[0minner\u001b[0m\u001b[0;34m.\u001b[0m\u001b[0m_without_warning\u001b[0m \u001b[0;34m=\u001b[0m \u001b[0mf\u001b[0m\u001b[0;34m\u001b[0m\u001b[0;34m\u001b[0m\u001b[0m\n",
            "\u001b[0;32m/usr/local/lib/python3.11/dist-packages/neo4j/_sync/work/session.py\u001b[0m in \u001b[0;36mwrite_transaction\u001b[0;34m(self, transaction_function, *args, **kwargs)\u001b[0m\n\u001b[1;32m    846\u001b[0m             \u001b[0mMethod\u001b[0m \u001b[0mwas\u001b[0m \u001b[0mrenamed\u001b[0m \u001b[0mto\u001b[0m \u001b[0;34m:\u001b[0m\u001b[0mmeth\u001b[0m\u001b[0;34m:\u001b[0m\u001b[0;31m`\u001b[0m\u001b[0;34m.\u001b[0m\u001b[0mexecute_write\u001b[0m\u001b[0;31m`\u001b[0m\u001b[0;34m.\u001b[0m\u001b[0;34m\u001b[0m\u001b[0;34m\u001b[0m\u001b[0m\n\u001b[1;32m    847\u001b[0m         \"\"\"\n\u001b[0;32m--> 848\u001b[0;31m         return self._run_transaction(\n\u001b[0m\u001b[1;32m    849\u001b[0m             \u001b[0mWRITE_ACCESS\u001b[0m\u001b[0;34m,\u001b[0m\u001b[0;34m\u001b[0m\u001b[0;34m\u001b[0m\u001b[0m\n\u001b[1;32m    850\u001b[0m             \u001b[0mTelemetryAPI\u001b[0m\u001b[0;34m.\u001b[0m\u001b[0mTX_FUNC\u001b[0m\u001b[0;34m,\u001b[0m\u001b[0;34m\u001b[0m\u001b[0;34m\u001b[0m\u001b[0m\n",
            "\u001b[0;32m/usr/local/lib/python3.11/dist-packages/neo4j/_sync/work/session.py\u001b[0m in \u001b[0;36m_run_transaction\u001b[0;34m(self, access_mode, api, transaction_function, args, kwargs)\u001b[0m\n\u001b[1;32m    593\u001b[0m                     \u001b[0;32mraise\u001b[0m\u001b[0;34m\u001b[0m\u001b[0;34m\u001b[0m\u001b[0m\n\u001b[1;32m    594\u001b[0m                 \u001b[0;32melse\u001b[0m\u001b[0;34m:\u001b[0m\u001b[0;34m\u001b[0m\u001b[0;34m\u001b[0m\u001b[0m\n\u001b[0;32m--> 595\u001b[0;31m                     \u001b[0mtx\u001b[0m\u001b[0;34m.\u001b[0m\u001b[0m_commit\u001b[0m\u001b[0;34m(\u001b[0m\u001b[0;34m)\u001b[0m\u001b[0;34m\u001b[0m\u001b[0;34m\u001b[0m\u001b[0m\n\u001b[0m\u001b[1;32m    596\u001b[0m             \u001b[0;32mexcept\u001b[0m \u001b[0;34m(\u001b[0m\u001b[0mDriverError\u001b[0m\u001b[0;34m,\u001b[0m \u001b[0mNeo4jError\u001b[0m\u001b[0;34m)\u001b[0m \u001b[0;32mas\u001b[0m \u001b[0merror\u001b[0m\u001b[0;34m:\u001b[0m\u001b[0;34m\u001b[0m\u001b[0;34m\u001b[0m\u001b[0m\n\u001b[1;32m    597\u001b[0m                 \u001b[0mself\u001b[0m\u001b[0;34m.\u001b[0m\u001b[0m_disconnect\u001b[0m\u001b[0;34m(\u001b[0m\u001b[0;34m)\u001b[0m\u001b[0;34m\u001b[0m\u001b[0;34m\u001b[0m\u001b[0m\n",
            "\u001b[0;32m/usr/local/lib/python3.11/dist-packages/neo4j/_sync/work/transaction.py\u001b[0m in \u001b[0;36m_commit\u001b[0;34m(self)\u001b[0m\n\u001b[1;32m    223\u001b[0m             \u001b[0mself\u001b[0m\u001b[0;34m.\u001b[0m\u001b[0m_connection\u001b[0m\u001b[0;34m.\u001b[0m\u001b[0mcommit\u001b[0m\u001b[0;34m(\u001b[0m\u001b[0mon_success\u001b[0m\u001b[0;34m=\u001b[0m\u001b[0mmetadata\u001b[0m\u001b[0;34m.\u001b[0m\u001b[0mupdate\u001b[0m\u001b[0;34m)\u001b[0m\u001b[0;34m\u001b[0m\u001b[0;34m\u001b[0m\u001b[0m\n\u001b[1;32m    224\u001b[0m             \u001b[0mself\u001b[0m\u001b[0;34m.\u001b[0m\u001b[0m_connection\u001b[0m\u001b[0;34m.\u001b[0m\u001b[0msend_all\u001b[0m\u001b[0;34m(\u001b[0m\u001b[0;34m)\u001b[0m\u001b[0;34m\u001b[0m\u001b[0;34m\u001b[0m\u001b[0m\n\u001b[0;32m--> 225\u001b[0;31m             \u001b[0mself\u001b[0m\u001b[0;34m.\u001b[0m\u001b[0m_connection\u001b[0m\u001b[0;34m.\u001b[0m\u001b[0mfetch_all\u001b[0m\u001b[0;34m(\u001b[0m\u001b[0;34m)\u001b[0m\u001b[0;34m\u001b[0m\u001b[0;34m\u001b[0m\u001b[0m\n\u001b[0m\u001b[1;32m    226\u001b[0m             \u001b[0mself\u001b[0m\u001b[0;34m.\u001b[0m\u001b[0m_bookmark\u001b[0m \u001b[0;34m=\u001b[0m \u001b[0mmetadata\u001b[0m\u001b[0;34m.\u001b[0m\u001b[0mget\u001b[0m\u001b[0;34m(\u001b[0m\u001b[0;34m\"bookmark\"\u001b[0m\u001b[0;34m)\u001b[0m\u001b[0;34m\u001b[0m\u001b[0;34m\u001b[0m\u001b[0m\n\u001b[1;32m    227\u001b[0m             \u001b[0mself\u001b[0m\u001b[0;34m.\u001b[0m\u001b[0m_database\u001b[0m \u001b[0;34m=\u001b[0m \u001b[0mmetadata\u001b[0m\u001b[0;34m.\u001b[0m\u001b[0mget\u001b[0m\u001b[0;34m(\u001b[0m\u001b[0;34m\"db\"\u001b[0m\u001b[0;34m,\u001b[0m \u001b[0mself\u001b[0m\u001b[0;34m.\u001b[0m\u001b[0m_database\u001b[0m\u001b[0;34m)\u001b[0m\u001b[0;34m\u001b[0m\u001b[0;34m\u001b[0m\u001b[0m\n",
            "\u001b[0;32m/usr/local/lib/python3.11/dist-packages/neo4j/_sync/io/_bolt.py\u001b[0m in \u001b[0;36mfetch_all\u001b[0;34m(self)\u001b[0m\n\u001b[1;32m    877\u001b[0m             \u001b[0mresponse\u001b[0m \u001b[0;34m=\u001b[0m \u001b[0mself\u001b[0m\u001b[0;34m.\u001b[0m\u001b[0mresponses\u001b[0m\u001b[0;34m[\u001b[0m\u001b[0;36m0\u001b[0m\u001b[0;34m]\u001b[0m\u001b[0;34m\u001b[0m\u001b[0;34m\u001b[0m\u001b[0m\n\u001b[1;32m    878\u001b[0m             \u001b[0;32mwhile\u001b[0m \u001b[0;32mnot\u001b[0m \u001b[0mresponse\u001b[0m\u001b[0;34m.\u001b[0m\u001b[0mcomplete\u001b[0m\u001b[0;34m:\u001b[0m\u001b[0;34m\u001b[0m\u001b[0;34m\u001b[0m\u001b[0m\n\u001b[0;32m--> 879\u001b[0;31m                 \u001b[0mdetail_delta\u001b[0m\u001b[0;34m,\u001b[0m \u001b[0msummary_delta\u001b[0m \u001b[0;34m=\u001b[0m \u001b[0mself\u001b[0m\u001b[0;34m.\u001b[0m\u001b[0mfetch_message\u001b[0m\u001b[0;34m(\u001b[0m\u001b[0;34m)\u001b[0m\u001b[0;34m\u001b[0m\u001b[0;34m\u001b[0m\u001b[0m\n\u001b[0m\u001b[1;32m    880\u001b[0m                 \u001b[0mdetail_count\u001b[0m \u001b[0;34m+=\u001b[0m \u001b[0mdetail_delta\u001b[0m\u001b[0;34m\u001b[0m\u001b[0;34m\u001b[0m\u001b[0m\n\u001b[1;32m    881\u001b[0m                 \u001b[0msummary_count\u001b[0m \u001b[0;34m+=\u001b[0m \u001b[0msummary_delta\u001b[0m\u001b[0;34m\u001b[0m\u001b[0;34m\u001b[0m\u001b[0m\n",
            "\u001b[0;32m/usr/local/lib/python3.11/dist-packages/neo4j/_sync/io/_bolt.py\u001b[0m in \u001b[0;36mfetch_message\u001b[0;34m(self)\u001b[0m\n\u001b[1;32m    859\u001b[0m \u001b[0;34m\u001b[0m\u001b[0m\n\u001b[1;32m    860\u001b[0m         \u001b[0;31m# Receive exactly one message\u001b[0m\u001b[0;34m\u001b[0m\u001b[0;34m\u001b[0m\u001b[0m\n\u001b[0;32m--> 861\u001b[0;31m         tag, fields = self.inbox.pop(\n\u001b[0m\u001b[1;32m    862\u001b[0m             \u001b[0mhydration_hooks\u001b[0m\u001b[0;34m=\u001b[0m\u001b[0mself\u001b[0m\u001b[0;34m.\u001b[0m\u001b[0mresponses\u001b[0m\u001b[0;34m[\u001b[0m\u001b[0;36m0\u001b[0m\u001b[0;34m]\u001b[0m\u001b[0;34m.\u001b[0m\u001b[0mhydration_hooks\u001b[0m\u001b[0;34m\u001b[0m\u001b[0;34m\u001b[0m\u001b[0m\n\u001b[1;32m    863\u001b[0m         )\n",
            "\u001b[0;32m/usr/local/lib/python3.11/dist-packages/neo4j/_sync/io/_common.py\u001b[0m in \u001b[0;36mpop\u001b[0;34m(self, hydration_hooks)\u001b[0m\n\u001b[1;32m     75\u001b[0m \u001b[0;34m\u001b[0m\u001b[0m\n\u001b[1;32m     76\u001b[0m     \u001b[0;32mdef\u001b[0m \u001b[0mpop\u001b[0m\u001b[0;34m(\u001b[0m\u001b[0mself\u001b[0m\u001b[0;34m,\u001b[0m \u001b[0mhydration_hooks\u001b[0m\u001b[0;34m)\u001b[0m\u001b[0;34m:\u001b[0m\u001b[0;34m\u001b[0m\u001b[0;34m\u001b[0m\u001b[0m\n\u001b[0;32m---> 77\u001b[0;31m         \u001b[0mself\u001b[0m\u001b[0;34m.\u001b[0m\u001b[0m_buffer_one_chunk\u001b[0m\u001b[0;34m(\u001b[0m\u001b[0;34m)\u001b[0m\u001b[0;34m\u001b[0m\u001b[0;34m\u001b[0m\u001b[0m\n\u001b[0m\u001b[1;32m     78\u001b[0m         \u001b[0;32mtry\u001b[0m\u001b[0;34m:\u001b[0m\u001b[0;34m\u001b[0m\u001b[0;34m\u001b[0m\u001b[0m\n\u001b[1;32m     79\u001b[0m             \u001b[0msize\u001b[0m\u001b[0;34m,\u001b[0m \u001b[0mtag\u001b[0m \u001b[0;34m=\u001b[0m \u001b[0mself\u001b[0m\u001b[0;34m.\u001b[0m\u001b[0m_unpacker\u001b[0m\u001b[0;34m.\u001b[0m\u001b[0munpack_structure_header\u001b[0m\u001b[0;34m(\u001b[0m\u001b[0;34m)\u001b[0m\u001b[0;34m\u001b[0m\u001b[0;34m\u001b[0m\u001b[0m\n",
            "\u001b[0;32m/usr/local/lib/python3.11/dist-packages/neo4j/_sync/io/_common.py\u001b[0m in \u001b[0;36m_buffer_one_chunk\u001b[0;34m(self)\u001b[0m\n\u001b[1;32m     52\u001b[0m                 \u001b[0;32mwhile\u001b[0m \u001b[0mchunk_size\u001b[0m \u001b[0;34m==\u001b[0m \u001b[0;36m0\u001b[0m\u001b[0;34m:\u001b[0m\u001b[0;34m\u001b[0m\u001b[0;34m\u001b[0m\u001b[0m\n\u001b[1;32m     53\u001b[0m                     \u001b[0;31m# Determine the chunk size and skip noop\u001b[0m\u001b[0;34m\u001b[0m\u001b[0;34m\u001b[0m\u001b[0m\n\u001b[0;32m---> 54\u001b[0;31m                     \u001b[0mreceive_into_buffer\u001b[0m\u001b[0;34m(\u001b[0m\u001b[0mself\u001b[0m\u001b[0;34m.\u001b[0m\u001b[0m_socket\u001b[0m\u001b[0;34m,\u001b[0m \u001b[0mself\u001b[0m\u001b[0;34m.\u001b[0m\u001b[0m_buffer\u001b[0m\u001b[0;34m,\u001b[0m \u001b[0;36m2\u001b[0m\u001b[0;34m)\u001b[0m\u001b[0;34m\u001b[0m\u001b[0;34m\u001b[0m\u001b[0m\n\u001b[0m\u001b[1;32m     55\u001b[0m                     \u001b[0mchunk_size\u001b[0m \u001b[0;34m=\u001b[0m \u001b[0mself\u001b[0m\u001b[0;34m.\u001b[0m\u001b[0m_buffer\u001b[0m\u001b[0;34m.\u001b[0m\u001b[0mpop_u16\u001b[0m\u001b[0;34m(\u001b[0m\u001b[0;34m)\u001b[0m\u001b[0;34m\u001b[0m\u001b[0;34m\u001b[0m\u001b[0m\n\u001b[1;32m     56\u001b[0m                     \u001b[0;32mif\u001b[0m \u001b[0mchunk_size\u001b[0m \u001b[0;34m==\u001b[0m \u001b[0;36m0\u001b[0m\u001b[0;34m:\u001b[0m\u001b[0;34m\u001b[0m\u001b[0;34m\u001b[0m\u001b[0m\n",
            "\u001b[0;32m/usr/local/lib/python3.11/dist-packages/neo4j/_sync/io/_common.py\u001b[0m in \u001b[0;36mreceive_into_buffer\u001b[0;34m(sock, buffer, n_bytes)\u001b[0m\n\u001b[1;32m    343\u001b[0m     \u001b[0;32mwith\u001b[0m \u001b[0mmemoryview\u001b[0m\u001b[0;34m(\u001b[0m\u001b[0mbuffer\u001b[0m\u001b[0;34m.\u001b[0m\u001b[0mdata\u001b[0m\u001b[0;34m)\u001b[0m \u001b[0;32mas\u001b[0m \u001b[0mview\u001b[0m\u001b[0;34m:\u001b[0m\u001b[0;34m\u001b[0m\u001b[0;34m\u001b[0m\u001b[0m\n\u001b[1;32m    344\u001b[0m         \u001b[0;32mwhile\u001b[0m \u001b[0mbuffer\u001b[0m\u001b[0;34m.\u001b[0m\u001b[0mused\u001b[0m \u001b[0;34m<\u001b[0m \u001b[0mend\u001b[0m\u001b[0;34m:\u001b[0m\u001b[0;34m\u001b[0m\u001b[0;34m\u001b[0m\u001b[0m\n\u001b[0;32m--> 345\u001b[0;31m             n = sock.recv_into(\n\u001b[0m\u001b[1;32m    346\u001b[0m                 \u001b[0mview\u001b[0m\u001b[0;34m[\u001b[0m\u001b[0mbuffer\u001b[0m\u001b[0;34m.\u001b[0m\u001b[0mused\u001b[0m \u001b[0;34m:\u001b[0m \u001b[0mend\u001b[0m\u001b[0;34m]\u001b[0m\u001b[0;34m,\u001b[0m \u001b[0mend\u001b[0m \u001b[0;34m-\u001b[0m \u001b[0mbuffer\u001b[0m\u001b[0;34m.\u001b[0m\u001b[0mused\u001b[0m\u001b[0;34m\u001b[0m\u001b[0;34m\u001b[0m\u001b[0m\n\u001b[1;32m    347\u001b[0m             )\n",
            "\u001b[0;32m/usr/local/lib/python3.11/dist-packages/neo4j/_async_compat/network/_bolt_socket.py\u001b[0m in \u001b[0;36mrecv_into\u001b[0;34m(self, buffer, nbytes)\u001b[0m\n\u001b[1;32m    362\u001b[0m \u001b[0;34m\u001b[0m\u001b[0m\n\u001b[1;32m    363\u001b[0m     \u001b[0;32mdef\u001b[0m \u001b[0mrecv_into\u001b[0m\u001b[0;34m(\u001b[0m\u001b[0mself\u001b[0m\u001b[0;34m,\u001b[0m \u001b[0mbuffer\u001b[0m\u001b[0;34m,\u001b[0m \u001b[0mnbytes\u001b[0m\u001b[0;34m)\u001b[0m\u001b[0;34m:\u001b[0m\u001b[0;34m\u001b[0m\u001b[0;34m\u001b[0m\u001b[0m\n\u001b[0;32m--> 364\u001b[0;31m         \u001b[0;32mreturn\u001b[0m \u001b[0mself\u001b[0m\u001b[0;34m.\u001b[0m\u001b[0m_wait_for_io\u001b[0m\u001b[0;34m(\u001b[0m\u001b[0mself\u001b[0m\u001b[0;34m.\u001b[0m\u001b[0m_socket\u001b[0m\u001b[0;34m.\u001b[0m\u001b[0mrecv_into\u001b[0m\u001b[0;34m,\u001b[0m \u001b[0mbuffer\u001b[0m\u001b[0;34m,\u001b[0m \u001b[0mnbytes\u001b[0m\u001b[0;34m)\u001b[0m\u001b[0;34m\u001b[0m\u001b[0;34m\u001b[0m\u001b[0m\n\u001b[0m\u001b[1;32m    365\u001b[0m \u001b[0;34m\u001b[0m\u001b[0m\n\u001b[1;32m    366\u001b[0m     \u001b[0;32mdef\u001b[0m \u001b[0msendall\u001b[0m\u001b[0;34m(\u001b[0m\u001b[0mself\u001b[0m\u001b[0;34m,\u001b[0m \u001b[0mdata\u001b[0m\u001b[0;34m)\u001b[0m\u001b[0;34m:\u001b[0m\u001b[0;34m\u001b[0m\u001b[0;34m\u001b[0m\u001b[0m\n",
            "\u001b[0;32m/usr/local/lib/python3.11/dist-packages/neo4j/_async_compat/network/_bolt_socket.py\u001b[0m in \u001b[0;36m_wait_for_io\u001b[0;34m(self, func, *args, **kwargs)\u001b[0m\n\u001b[1;32m    337\u001b[0m     \u001b[0;32mdef\u001b[0m \u001b[0m_wait_for_io\u001b[0m\u001b[0;34m(\u001b[0m\u001b[0mself\u001b[0m\u001b[0;34m,\u001b[0m \u001b[0mfunc\u001b[0m\u001b[0;34m,\u001b[0m \u001b[0;34m*\u001b[0m\u001b[0margs\u001b[0m\u001b[0;34m,\u001b[0m \u001b[0;34m**\u001b[0m\u001b[0mkwargs\u001b[0m\u001b[0;34m)\u001b[0m\u001b[0;34m:\u001b[0m\u001b[0;34m\u001b[0m\u001b[0;34m\u001b[0m\u001b[0m\n\u001b[1;32m    338\u001b[0m         \u001b[0;32mif\u001b[0m \u001b[0mself\u001b[0m\u001b[0;34m.\u001b[0m\u001b[0m_deadline\u001b[0m \u001b[0;32mis\u001b[0m \u001b[0;32mNone\u001b[0m\u001b[0;34m:\u001b[0m\u001b[0;34m\u001b[0m\u001b[0;34m\u001b[0m\u001b[0m\n\u001b[0;32m--> 339\u001b[0;31m             \u001b[0;32mreturn\u001b[0m \u001b[0mfunc\u001b[0m\u001b[0;34m(\u001b[0m\u001b[0;34m*\u001b[0m\u001b[0margs\u001b[0m\u001b[0;34m,\u001b[0m \u001b[0;34m**\u001b[0m\u001b[0mkwargs\u001b[0m\u001b[0;34m)\u001b[0m\u001b[0;34m\u001b[0m\u001b[0;34m\u001b[0m\u001b[0m\n\u001b[0m\u001b[1;32m    340\u001b[0m         \u001b[0mtimeout\u001b[0m \u001b[0;34m=\u001b[0m \u001b[0mself\u001b[0m\u001b[0;34m.\u001b[0m\u001b[0m_socket\u001b[0m\u001b[0;34m.\u001b[0m\u001b[0mgettimeout\u001b[0m\u001b[0;34m(\u001b[0m\u001b[0;34m)\u001b[0m\u001b[0;34m\u001b[0m\u001b[0;34m\u001b[0m\u001b[0m\n\u001b[1;32m    341\u001b[0m         \u001b[0mdeadline_timeout\u001b[0m \u001b[0;34m=\u001b[0m \u001b[0mself\u001b[0m\u001b[0;34m.\u001b[0m\u001b[0m_deadline\u001b[0m\u001b[0;34m.\u001b[0m\u001b[0mto_timeout\u001b[0m\u001b[0;34m(\u001b[0m\u001b[0;34m)\u001b[0m\u001b[0;34m\u001b[0m\u001b[0;34m\u001b[0m\u001b[0m\n",
            "\u001b[0;31mKeyboardInterrupt\u001b[0m: "
          ]
        }
      ]
    },
    {
      "cell_type": "code",
      "source": [
        "driver.close()"
      ],
      "metadata": {
        "id": "MXjy3zfD9QTw"
      },
      "execution_count": 12,
      "outputs": []
    },
    {
      "cell_type": "code",
      "source": [
        "def retrieve_context(question, driver):\n",
        "    # Simple example: find articles purchased by customers with a certain product name in their history\n",
        "    # Extend this with more advanced retrieval as needed\n",
        "    with driver.session() as session:\n",
        "        if \"customer\" in question.lower():\n",
        "            cypher = \"\"\"\n",
        "            MATCH (c:Customer)-[:PURCHASED]->(a:Article)\n",
        "            RETURN c.customerId AS customer, collect(a.prodName) AS products LIMIT 5\n",
        "            \"\"\"\n",
        "            results = session.run(cypher)\n",
        "            context = \"\\n\".join([f\"Customer {r['customer']} bought: {', '.join(r['products'])}\" for r in results])\n",
        "        else:\n",
        "            # Just return some products\n",
        "            cypher = \"MATCH (p:Product) RETURN p.prodName AS name LIMIT 5\"\n",
        "            results = session.run(cypher)\n",
        "            context = \"Products: \" + \", \".join([r['name'] for r in results])\n",
        "    return context"
      ],
      "metadata": {
        "id": "Wo8GXEFY-Xvc"
      },
      "execution_count": 16,
      "outputs": []
    },
    {
      "cell_type": "code",
      "source": [
        "def rag_query_llm(question):\n",
        "    # Connect to Neo4j\n",
        "    driver = GraphDatabase.driver(NEO4J_URI, auth=(NEO4J_USER, NEO4J_PASSWORD))\n",
        "    # Retrieve context from graph\n",
        "    context = retrieve_context(question, driver)\n",
        "    # Compose prompt\n",
        "    prompt = f\"\"\"Answer the following question using this context from a fashion retail graph database:\n",
        "Context:\n",
        "{context}\n",
        "\n",
        "Question:\n",
        "{question}\n",
        "\n",
        "Answer:\"\"\"\n",
        "    # Call LLM (OpenAI GPT example)\n",
        "    response = openai.chat.completions.create(\n",
        "        model=\"gpt-3.5-turbo\",\n",
        "        messages=[\n",
        "            {\"role\": \"system\", \"content\": \"You are a helpful assistant.\"},\n",
        "            {\"role\": \"user\", \"content\": prompt}\n",
        "        ],\n",
        "        temperature=0\n",
        "\n",
        "    )\n",
        "    print(response.choices[0].message.content.strip())\n",
        "    driver.close()\n",
        "\n",
        "if __name__ == \"__main__\":\n",
        "    user_question = input(\"Ask your question: \")\n",
        "    rag_query_llm(user_question)"
      ],
      "metadata": {
        "colab": {
          "base_uri": "https://localhost:8080/"
        },
        "id": "TAM_2Vql-dBj",
        "outputId": "c10ad87c-3475-4553-aef1-d6ad8870d4e7"
      },
      "execution_count": 23,
      "outputs": [
        {
          "output_type": "stream",
          "name": "stdout",
          "text": [
            "Ask your question: what are T-shirt  aviable\n",
            "The T-shirt available in the fashion retail graph database is the OP T-shirt (Idro).\n"
          ]
        }
      ]
    },
    {
      "cell_type": "markdown",
      "source": [
        "# Implemetation for unstrcutre data"
      ],
      "metadata": {
        "id": "a8bdkTrJARel"
      }
    },
    {
      "cell_type": "code",
      "source": [
        "import csv\n",
        "import requests\n",
        "from neo4j import GraphDatabase\n",
        "import openai\n",
        "\n",
        "# CONFIGURATION\n",
        "NEO4J_URI = \"bolt://localhost:7687\"\n",
        "NEO4J_USER = \"neo4j\"\n",
        "NEO4J_PASSWORD = \"password\"\n",
        "\n",
        "OPENAI_API_KEY = \"sk-...\"\n",
        "openai.api_key = OPENAI_API_KEY\n",
        "\n",
        "# 1. Load unstructured data (example: product descriptions)\n",
        "CSV_URL = \"https://your-link/products.csv\"  # must have 'productCode', 'prodName', 'detailDesc' columns\n",
        "\n",
        "def fetch_csv(url):\n",
        "    r = requests.get(url)\n",
        "    r.raise_for_status()\n",
        "    decoded = r.content.decode('utf-8')\n",
        "    return list(csv.DictReader(decoded.splitlines()))\n",
        "\n",
        "driver = GraphDatabase.driver(NEO4J_URI, auth=(NEO4J_USER, NEO4J_PASSWORD))\n",
        "\n",
        "def embed_text(text):\n",
        "    \"\"\"Get OpenAI embedding for the text.\"\"\"\n",
        "    resp = openai.Embedding.create(\n",
        "        input=text,\n",
        "        model=\"text-embedding-ada-002\"\n",
        "    )\n",
        "    return resp[\"data\"][0][\"embedding\"]\n",
        "\n",
        "# 2. Store products as nodes with embeddings\n",
        "def store_product_with_embedding(tx, row, embedding):\n",
        "    tx.run(\n",
        "        \"\"\"\n",
        "        MERGE (p:Product {productCode: $productCode})\n",
        "        SET p.prodName = $prodName,\n",
        "            p.detailDesc = $detailDesc,\n",
        "            p.embedding = $embedding\n",
        "        \"\"\",\n",
        "        productCode=row[\"productCode\"],\n",
        "        prodName=row[\"prodName\"],\n",
        "        detailDesc=row[\"detailDesc\"],\n",
        "        embedding=embedding\n",
        "    )\n",
        "\n",
        "# 3. Ingest and embed\n",
        "for row in fetch_csv(CSV_URL):\n",
        "    desc = row.get(\"detailDesc\", \"\")\n",
        "    if desc.strip():\n",
        "        embedding = embed_text(desc)\n",
        "        with driver.session() as session:\n",
        "            session.write_transaction(store_product_with_embedding, row, embedding)\n",
        "\n",
        "print(\"Products with embeddings stored in Neo4j.\")\n",
        "\n",
        "# 4. Simple RAG Query: Find similar products by description\n",
        "def get_similar_products(query, top_k=3):\n",
        "    # Embed the query\n",
        "    query_emb = embed_text(query)\n",
        "    with driver.session() as session:\n",
        "        # Use Neo4j GDS vector index for ANN search if set up, or fallback to cosine similarity manually\n",
        "        cypher = \"\"\"\n",
        "        MATCH (p:Product)\n",
        "        WHERE exists(p.embedding)\n",
        "        WITH p, gds.similarity.cosine(p.embedding, $query_emb) AS score\n",
        "        RETURN p.prodName AS name, p.detailDesc AS desc, score\n",
        "        ORDER BY score DESC LIMIT $top_k\n",
        "        \"\"\"\n",
        "        results = session.run(cypher, query_emb=query_emb, top_k=top_k)\n",
        "        return [(r[\"name\"], r[\"desc\"], r[\"score\"]) for r in results]\n",
        "\n",
        "# 5. Use with an LLM (simple prompt composition)\n",
        "def answer_with_rag(user_query):\n",
        "    context_items = get_similar_products(user_query, top_k=3)\n",
        "    context = \"\\n\".join([f\"{name}: {desc}\" for name, desc, _ in context_items])\n",
        "    prompt = f\"\"\"Using the following product descriptions, answer the question:\n",
        "{context}\n",
        "Question: {user_query}\n",
        "Answer:\"\"\"\n",
        "    response = openai.Completion.create(\n",
        "        engine=\"gpt-3.5-turbo-instruct\",\n",
        "        prompt=prompt,\n",
        "        max_tokens=200\n",
        "    )\n",
        "    print(response.choices[0].text.strip())\n",
        "\n",
        "if __name__ == \"__main__\":\n",
        "    q = input(\"Ask your product-related question: \")\n",
        "    answer_with_rag(q)"
      ],
      "metadata": {
        "id": "Pkda9nZ7AYXV"
      },
      "execution_count": null,
      "outputs": []
    }
  ]
}